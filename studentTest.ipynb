{
  "nbformat": 4,
  "nbformat_minor": 0,
  "metadata": {
    "colab": {
      "provenance": [],
      "authorship_tag": "ABX9TyPsy7XhqNy5V5iObymtVQiC",
      "include_colab_link": true
    },
    "kernelspec": {
      "name": "python3",
      "display_name": "Python 3"
    },
    "language_info": {
      "name": "python"
    }
  },
  "cells": [
    {
      "cell_type": "markdown",
      "metadata": {
        "id": "view-in-github",
        "colab_type": "text"
      },
      "source": [
        "<a href=\"https://colab.research.google.com/github/Alwin-Lin/studentTesting/blob/main/studentTest.ipynb\" target=\"_parent\"><img src=\"https://colab.research.google.com/assets/colab-badge.svg\" alt=\"Open In Colab\"/></a>"
      ]
    },
    {
      "cell_type": "code",
      "execution_count": 1,
      "metadata": {
        "id": "jbkMTB0laPlk",
        "colab": {
          "base_uri": "https://localhost:8080/"
        },
        "outputId": "628d8deb-a5a5-4eae-8f87-ec54739ae09c"
      },
      "outputs": [
        {
          "output_type": "stream",
          "name": "stdout",
          "text": [
            "Requirement already satisfied: requests in /usr/local/lib/python3.11/dist-packages (2.32.3)\n",
            "Collecting gTTS\n",
            "  Downloading gTTS-2.5.4-py3-none-any.whl.metadata (4.1 kB)\n",
            "Collecting ics\n",
            "  Downloading ics-0.7.2-py2.py3-none-any.whl.metadata (4.2 kB)\n",
            "Requirement already satisfied: charset-normalizer<4,>=2 in /usr/local/lib/python3.11/dist-packages (from requests) (3.4.1)\n",
            "Requirement already satisfied: idna<4,>=2.5 in /usr/local/lib/python3.11/dist-packages (from requests) (3.10)\n",
            "Requirement already satisfied: urllib3<3,>=1.21.1 in /usr/local/lib/python3.11/dist-packages (from requests) (2.3.0)\n",
            "Requirement already satisfied: certifi>=2017.4.17 in /usr/local/lib/python3.11/dist-packages (from requests) (2025.1.31)\n",
            "Requirement already satisfied: click<8.2,>=7.1 in /usr/local/lib/python3.11/dist-packages (from gTTS) (8.1.8)\n",
            "Requirement already satisfied: python-dateutil in /usr/local/lib/python3.11/dist-packages (from ics) (2.8.2)\n",
            "Collecting arrow>=0.11 (from ics)\n",
            "  Downloading arrow-1.3.0-py3-none-any.whl.metadata (7.5 kB)\n",
            "Requirement already satisfied: six>1.5 in /usr/local/lib/python3.11/dist-packages (from ics) (1.17.0)\n",
            "Collecting tatsu>4.2 (from ics)\n",
            "  Downloading TatSu-5.13.1-py3-none-any.whl.metadata (14 kB)\n",
            "Requirement already satisfied: attrs>=19.1.0 in /usr/local/lib/python3.11/dist-packages (from ics) (25.3.0)\n",
            "Collecting types-python-dateutil>=2.8.10 (from arrow>=0.11->ics)\n",
            "  Downloading types_python_dateutil-2.9.0.20241206-py3-none-any.whl.metadata (2.1 kB)\n",
            "Downloading gTTS-2.5.4-py3-none-any.whl (29 kB)\n",
            "Downloading ics-0.7.2-py2.py3-none-any.whl (40 kB)\n",
            "\u001b[2K   \u001b[90m━━━━━━━━━━━━━━━━━━━━━━━━━━━━━━━━━━━━━━━━\u001b[0m \u001b[32m40.1/40.1 kB\u001b[0m \u001b[31m2.2 MB/s\u001b[0m eta \u001b[36m0:00:00\u001b[0m\n",
            "\u001b[?25hDownloading arrow-1.3.0-py3-none-any.whl (66 kB)\n",
            "\u001b[2K   \u001b[90m━━━━━━━━━━━━━━━━━━━━━━━━━━━━━━━━━━━━━━━━\u001b[0m \u001b[32m66.4/66.4 kB\u001b[0m \u001b[31m4.2 MB/s\u001b[0m eta \u001b[36m0:00:00\u001b[0m\n",
            "\u001b[?25hDownloading TatSu-5.13.1-py3-none-any.whl (80 kB)\n",
            "\u001b[2K   \u001b[90m━━━━━━━━━━━━━━━━━━━━━━━━━━━━━━━━━━━━━━━━\u001b[0m \u001b[32m80.2/80.2 kB\u001b[0m \u001b[31m4.8 MB/s\u001b[0m eta \u001b[36m0:00:00\u001b[0m\n",
            "\u001b[?25hDownloading types_python_dateutil-2.9.0.20241206-py3-none-any.whl (14 kB)\n",
            "Installing collected packages: types-python-dateutil, tatsu, gTTS, arrow, ics\n",
            "Successfully installed arrow-1.3.0 gTTS-2.5.4 ics-0.7.2 tatsu-5.13.1 types-python-dateutil-2.9.0.20241206\n"
          ]
        }
      ],
      "source": [
        "# import the following libaries: requests, gTTS, ics, IPython.display\n",
        "\n",
        "!pip install requests gTTS ics\n",
        "\n",
        "import requests\n",
        "from gtts import gTTS\n",
        "from ics import Calendar\n",
        "from IPython.display import Audio\n"
      ]
    },
    {
      "cell_type": "code",
      "source": [
        "# prompt: allow user file upload with error handeling\n",
        "\n",
        "import io\n",
        "from google.colab import files\n",
        "\n",
        "def upload_and_process_file():\n",
        "    try:\n",
        "        uploaded = files.upload()\n",
        "        for fn in uploaded.keys():\n",
        "            print(f'User uploaded file \"{fn}\" with length {len(uploaded[fn])} bytes')\n",
        "\n",
        "            # Process the uploaded file here. Example: Print the first 100 bytes\n",
        "            file_content = uploaded[fn]\n",
        "            print(f\"First 100 bytes of {fn}:\\n{file_content[:100]}\")\n",
        "\n",
        "    except Exception as e:\n",
        "        print(f\"An error occurred: {e}\")\n",
        "\n",
        "\n",
        "upload_and_process_file()\n"
      ],
      "metadata": {
        "id": "18foNzHVcVyC"
      },
      "execution_count": null,
      "outputs": []
    }
  ]
}