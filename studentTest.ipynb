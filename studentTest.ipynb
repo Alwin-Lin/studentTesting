{
  "nbformat": 4,
  "nbformat_minor": 0,
  "metadata": {
    "colab": {
      "provenance": [],
      "authorship_tag": "ABX9TyNVqsxVHPVhucAjkbjX0XoM",
      "include_colab_link": true
    },
    "kernelspec": {
      "name": "python3",
      "display_name": "Python 3"
    },
    "language_info": {
      "name": "python"
    }
  },
  "cells": [
    {
      "cell_type": "markdown",
      "metadata": {
        "id": "view-in-github",
        "colab_type": "text"
      },
      "source": [
        "<a href=\"https://colab.research.google.com/github/Alwin-Lin/studentTesting/blob/main/studentTest.ipynb\" target=\"_parent\"><img src=\"https://colab.research.google.com/assets/colab-badge.svg\" alt=\"Open In Colab\"/></a>"
      ]
    },
    {
      "cell_type": "code",
      "execution_count": null,
      "metadata": {
        "id": "jbkMTB0laPlk"
      },
      "outputs": [],
      "source": [
        "# import the following libaries: requests, gTTS, ics, IPython.display\n",
        "\n",
        "!pip install requests gTTS ics\n",
        "\n",
        "import requests\n",
        "from gtts import gTTS\n",
        "from ics import Calendar\n",
        "from IPython.display import Audio\n"
      ]
    }
  ]
}